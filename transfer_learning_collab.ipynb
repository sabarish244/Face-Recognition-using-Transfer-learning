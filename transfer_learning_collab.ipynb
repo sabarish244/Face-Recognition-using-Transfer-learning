{
  "nbformat": 4,
  "nbformat_minor": 0,
  "metadata": {
    "kernelspec": {
      "display_name": "Python 3",
      "language": "python",
      "name": "python3"
    },
    "language_info": {
      "codemirror_mode": {
        "name": "ipython",
        "version": 3
      },
      "file_extension": ".py",
      "mimetype": "text/x-python",
      "name": "python",
      "nbconvert_exporter": "python",
      "pygments_lexer": "ipython3",
      "version": "3.5.6"
    },
    "colab": {
      "name": "Untitled.ipynb",
      "provenance": [],
      "include_colab_link": true
    }
  },
  "cells": [
    {
      "cell_type": "markdown",
      "metadata": {
        "id": "view-in-github",
        "colab_type": "text"
      },
      "source": [
        "<a href=\"https://colab.research.google.com/github/sabarish244/Face-Recognition-using-Transfer-learning/blob/master/transfer_learning_collab.ipynb\" target=\"_parent\"><img src=\"https://colab.research.google.com/assets/colab-badge.svg\" alt=\"Open In Colab\"/></a>"
      ]
    },
    {
      "cell_type": "code",
      "metadata": {
        "deletable": true,
        "editable": true,
        "id": "w896-pVfJEuQ",
        "colab_type": "code",
        "colab": {}
      },
      "source": [
        "from keras.applications import InceptionResNetV2\n",
        "\n",
        "#model needs 224x224 pixels as input\n",
        "img_rows,img_cols= 224,224\n",
        "\n",
        "# Re-loads the model without the top or FC layers\n",
        "model = InceptionResNetV2(weights='imagenet'  , include_top = False ,input_shape=(img_rows,img_cols,3))\n",
        "\n",
        "# Here we freeze the last 4 layers \n",
        "# Layers are set to trainable as True by default\n",
        "for layer in model.layers:\n",
        "    layer.trainable = False\n",
        "\n",
        "    # Let's print our layers \n",
        "for (i,layer) in enumerate(model.layers):\n",
        "    print(str(i) + \" \"+ layer.__class__.__name__, layer.trainable)"
      ],
      "execution_count": 0,
      "outputs": []
    },
    {
      "cell_type": "code",
      "metadata": {
        "deletable": true,
        "editable": true,
        "id": "JjF1w87GJEuZ",
        "colab_type": "code",
        "colab": {}
      },
      "source": [
        ""
      ],
      "execution_count": 0,
      "outputs": []
    },
    {
      "cell_type": "code",
      "metadata": {
        "deletable": true,
        "editable": true,
        "id": "AI8GDkG6JEug",
        "colab_type": "code",
        "colab": {}
      },
      "source": [
        "def addTopModelmodel(bottom_model, num_classes):\n",
        "    \"\"\"creates the top or head of the model that will be \n",
        "    placed ontop of the bottom layers\"\"\"\n",
        "\n",
        "    top_model = bottom_model.output\n",
        "    top_model = Flatten(name='flatten')(top_model)\n",
        "    top_model = Dense(4096,activation='relu')(top_model)\n",
        "    top_model = Dense(4096,activation='relu')(top_model)\n",
        "    top_model = Dense(256,activation='relu')(top_model)\n",
        "    top_model = Dense(num_classes,activation='sigmoid')(top_model)\n",
        "    return top_model"
      ],
      "execution_count": 0,
      "outputs": []
    },
    {
      "cell_type": "code",
      "metadata": {
        "deletable": true,
        "editable": true,
        "id": "0lQOeUE1JEun",
        "colab_type": "code",
        "colab": {}
      },
      "source": [
        ""
      ],
      "execution_count": 0,
      "outputs": []
    },
    {
      "cell_type": "code",
      "metadata": {
        "deletable": true,
        "editable": true,
        "id": "kAQjTumbJEuu",
        "colab_type": "code",
        "colab": {}
      },
      "source": [
        "from keras.models import Sequential\n",
        "from keras.layers import Dense, Dropout, Activation, Flatten, GlobalAveragePooling2D\n",
        "from keras.layers import Conv2D, MaxPooling2D, ZeroPadding2D\n",
        "from keras.layers.normalization import BatchNormalization\n",
        "from keras.models import Model\n",
        "\n",
        "# Set our class number to 2\n",
        "num_classes = 4\n",
        "\n",
        "FC_Head = addTopModelmodel(model, num_classes)\n",
        "\n",
        "newmodel = Model(inputs = model.input, outputs = FC_Head)\n",
        "\n",
        "print(newmodel.summary())"
      ],
      "execution_count": 0,
      "outputs": []
    },
    {
      "cell_type": "code",
      "metadata": {
        "deletable": true,
        "editable": true,
        "id": "k0JGmcUzJEu1",
        "colab_type": "code",
        "colab": {}
      },
      "source": [
        "from google.colab import drive\n",
        "drive.mount('/content/drive')"
      ],
      "execution_count": 0,
      "outputs": []
    },
    {
      "cell_type": "code",
      "metadata": {
        "deletable": true,
        "editable": true,
        "id": "SZYWZNCJJEu_",
        "colab_type": "code",
        "colab": {}
      },
      "source": [
        "from keras.preprocessing.image import ImageDataGenerator\n",
        "\n",
        "train_data_dir = '/content/drive/My Drive/Sabari/train_set'\n",
        "test_data_dir = '/content/drive/My Drive/Sabari/test_set'\n",
        "\n",
        "# Let's use some data augmentaiton \n",
        "train_datagen = ImageDataGenerator(\n",
        "      rescale=1./255,\n",
        "      rotation_range=45,\n",
        "      width_shift_range=0.3,\n",
        "      height_shift_range=0.3,\n",
        "      horizontal_flip=True,\n",
        "      fill_mode='nearest')\n",
        " \n",
        "test_datagen = ImageDataGenerator(rescale=1./255)\n",
        " \n",
        "\n",
        " \n",
        "train_generator = train_datagen.flow_from_directory(\n",
        "        train_data_dir,\n",
        "        target_size=(img_rows, img_cols))\n",
        " \n",
        "test_generator = test_datagen.flow_from_directory(\n",
        "        test_data_dir,\n",
        "        target_size=(img_rows, img_cols))"
      ],
      "execution_count": 0,
      "outputs": []
    },
    {
      "cell_type": "code",
      "metadata": {
        "deletable": true,
        "editable": true,
        "id": "3BERHc5mJEvI",
        "colab_type": "code",
        "colab": {}
      },
      "source": [
        ""
      ],
      "execution_count": 0,
      "outputs": []
    },
    {
      "cell_type": "code",
      "metadata": {
        "deletable": true,
        "editable": true,
        "id": "1AAGnTloJEvO",
        "colab_type": "code",
        "colab": {}
      },
      "source": [
        "from keras.optimizers import Adam\n",
        "from keras.callbacks import ModelCheckpoint, EarlyStopping\n",
        "\n",
        "                     \n",
        "checkpoint = ModelCheckpoint(\"/content/drive/My Drive/face_recog.h5\",\n",
        "                             monitor=\"val_accuracy\",\n",
        "                             mode=\"min\",\n",
        "                             save_best_only=True,\n",
        "                             verbose=1)\n",
        "\n",
        "earlystop = EarlyStopping(monitor='val_accuracy',\n",
        "                          verbose=1, \n",
        "                          patience=5,\n",
        "                          restore_best_weights=True)\n",
        "\n",
        "# we put our call backs into a callback list\n",
        "callbacks = [earlystop, checkpoint]\n",
        "\n",
        "# We use a very small learning rate \n",
        "newmodel.compile(loss = 'binary_crossentropy',\n",
        "              optimizer = Adam(lr = 0.001),\n",
        "              metrics = ['accuracy'])\n",
        "\n",
        "history = newmodel.fit_generator(\n",
        "    generator=train_generator,\n",
        "    epochs = 10,\n",
        "    callbacks = callbacks,\n",
        "    validation_data = test_generator)\n",
        "newmodel.save(\"/content/drive/My Drive/face_recog.h5\")"
      ],
      "execution_count": 0,
      "outputs": []
    },
    {
      "cell_type": "code",
      "metadata": {
        "id": "7T5__Z3WjJwM",
        "colab_type": "code",
        "colab": {}
      },
      "source": [
        "\n"
      ],
      "execution_count": 0,
      "outputs": []
    },
    {
      "cell_type": "code",
      "metadata": {
        "deletable": true,
        "editable": true,
        "id": "Gx_tQuOsJEvU",
        "colab_type": "code",
        "cellView": "code",
        "colab": {}
      },
      "source": [
        "from keras.models import load_model\n",
        "from keras.applications import decode_predictions\n",
        "from keras.preprocessing import image\n",
        "his_img = image.load_img(\"/content/drive/My Drive/test.jpg\", target_size=(224,224))\n",
        "import numpy as np\n",
        "his_img = image.img_to_array(his_img)\n",
        "exp_img = np.expand_dims(his_img, axis=0)\n",
        "model = load_model(\"/content/drive/My Drive/face_recog.h5\")\n",
        "pred = model.predict(exp_img)\n",
        "pred"
      ],
      "execution_count": 0,
      "outputs": []
    }
  ]
}